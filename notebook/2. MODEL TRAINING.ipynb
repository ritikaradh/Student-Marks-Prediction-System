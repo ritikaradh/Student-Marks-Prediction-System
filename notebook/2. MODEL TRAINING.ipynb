{
 "cells": [
  {
   "cell_type": "markdown",
   "metadata": {},
   "source": [
    "#   Model Training"
   ]
  },
  {
   "cell_type": "markdown",
   "metadata": {},
   "source": [
    "### 1.1 Importing Packages"
   ]
  },
  {
   "cell_type": "code",
   "execution_count": 83,
   "metadata": {},
   "outputs": [],
   "source": [
    "#   importing basic libraries\n",
    "\n",
    "import numpy as np\n",
    "import pandas as pd \n",
    "import matplotlib.pyplot as plt \n",
    "import seaborn as sns"
   ]
  },
  {
   "cell_type": "code",
   "execution_count": 84,
   "metadata": {},
   "outputs": [],
   "source": [
    "#   importing modelling libraries\n",
    "\n",
    "from sklearn.neighbors import KNeighborsRegressor\n",
    "from sklearn.tree import DecisionTreeRegressor\n",
    "from sklearn.ensemble import RandomForestRegressor, AdaBoostRegressor\n",
    "from sklearn.svm import SVR\n",
    "from sklearn.linear_model import LinearRegression, Ridge, Lasso\n",
    "\n",
    "from sklearn.metrics import r2_score, mean_absolute_error, mean_squared_error\n",
    "from sklearn.model_selection import RandomizedSearchCV\n",
    "\n",
    "from catboost import CatBoostRegressor\n",
    "from xgboost import XGBRegressor\n",
    "\n",
    "import warnings"
   ]
  },
  {
   "cell_type": "markdown",
   "metadata": {},
   "source": [
    "### 1.2 Importing the CSV file as Pandas Dataframe"
   ]
  },
  {
   "cell_type": "code",
   "execution_count": 85,
   "metadata": {},
   "outputs": [],
   "source": [
    "df = pd.read_csv(\"data/StudentsPerformance.csv\")"
   ]
  },
  {
   "cell_type": "code",
   "execution_count": 86,
   "metadata": {},
   "outputs": [
    {
     "name": "stdout",
     "output_type": "stream",
     "text": [
      "(1000, 8)\n",
      "\n",
      "\n",
      "   gender race/ethnicity parental level of education         lunch  \\\n",
      "0  female        group B           bachelor's degree      standard   \n",
      "1  female        group C                some college      standard   \n",
      "2  female        group B             master's degree      standard   \n",
      "3    male        group A          associate's degree  free/reduced   \n",
      "4    male        group C                some college      standard   \n",
      "\n",
      "  test preparation course  math score  reading score  writing score  \n",
      "0                    none          72             72             74  \n",
      "1               completed          69             90             88  \n",
      "2                    none          90             95             93  \n",
      "3                    none          47             57             44  \n",
      "4                    none          76             78             75  \n"
     ]
    }
   ],
   "source": [
    "print(df.shape, end=\"\\n\\n\\n\")\n",
    "print(df.head())"
   ]
  },
  {
   "cell_type": "markdown",
   "metadata": {},
   "source": [
    "### 1.3 Splitting independent features and dependent feature"
   ]
  },
  {
   "cell_type": "code",
   "execution_count": 87,
   "metadata": {},
   "outputs": [
    {
     "data": {
      "text/html": [
       "<div>\n",
       "<style scoped>\n",
       "    .dataframe tbody tr th:only-of-type {\n",
       "        vertical-align: middle;\n",
       "    }\n",
       "\n",
       "    .dataframe tbody tr th {\n",
       "        vertical-align: top;\n",
       "    }\n",
       "\n",
       "    .dataframe thead th {\n",
       "        text-align: right;\n",
       "    }\n",
       "</style>\n",
       "<table border=\"1\" class=\"dataframe\">\n",
       "  <thead>\n",
       "    <tr style=\"text-align: right;\">\n",
       "      <th></th>\n",
       "      <th>gender</th>\n",
       "      <th>race/ethnicity</th>\n",
       "      <th>parental level of education</th>\n",
       "      <th>lunch</th>\n",
       "      <th>test preparation course</th>\n",
       "      <th>reading score</th>\n",
       "      <th>writing score</th>\n",
       "    </tr>\n",
       "  </thead>\n",
       "  <tbody>\n",
       "    <tr>\n",
       "      <th>0</th>\n",
       "      <td>female</td>\n",
       "      <td>group B</td>\n",
       "      <td>bachelor's degree</td>\n",
       "      <td>standard</td>\n",
       "      <td>none</td>\n",
       "      <td>72</td>\n",
       "      <td>74</td>\n",
       "    </tr>\n",
       "    <tr>\n",
       "      <th>1</th>\n",
       "      <td>female</td>\n",
       "      <td>group C</td>\n",
       "      <td>some college</td>\n",
       "      <td>standard</td>\n",
       "      <td>completed</td>\n",
       "      <td>90</td>\n",
       "      <td>88</td>\n",
       "    </tr>\n",
       "    <tr>\n",
       "      <th>2</th>\n",
       "      <td>female</td>\n",
       "      <td>group B</td>\n",
       "      <td>master's degree</td>\n",
       "      <td>standard</td>\n",
       "      <td>none</td>\n",
       "      <td>95</td>\n",
       "      <td>93</td>\n",
       "    </tr>\n",
       "    <tr>\n",
       "      <th>3</th>\n",
       "      <td>male</td>\n",
       "      <td>group A</td>\n",
       "      <td>associate's degree</td>\n",
       "      <td>free/reduced</td>\n",
       "      <td>none</td>\n",
       "      <td>57</td>\n",
       "      <td>44</td>\n",
       "    </tr>\n",
       "    <tr>\n",
       "      <th>4</th>\n",
       "      <td>male</td>\n",
       "      <td>group C</td>\n",
       "      <td>some college</td>\n",
       "      <td>standard</td>\n",
       "      <td>none</td>\n",
       "      <td>78</td>\n",
       "      <td>75</td>\n",
       "    </tr>\n",
       "    <tr>\n",
       "      <th>...</th>\n",
       "      <td>...</td>\n",
       "      <td>...</td>\n",
       "      <td>...</td>\n",
       "      <td>...</td>\n",
       "      <td>...</td>\n",
       "      <td>...</td>\n",
       "      <td>...</td>\n",
       "    </tr>\n",
       "    <tr>\n",
       "      <th>995</th>\n",
       "      <td>female</td>\n",
       "      <td>group E</td>\n",
       "      <td>master's degree</td>\n",
       "      <td>standard</td>\n",
       "      <td>completed</td>\n",
       "      <td>99</td>\n",
       "      <td>95</td>\n",
       "    </tr>\n",
       "    <tr>\n",
       "      <th>996</th>\n",
       "      <td>male</td>\n",
       "      <td>group C</td>\n",
       "      <td>high school</td>\n",
       "      <td>free/reduced</td>\n",
       "      <td>none</td>\n",
       "      <td>55</td>\n",
       "      <td>55</td>\n",
       "    </tr>\n",
       "    <tr>\n",
       "      <th>997</th>\n",
       "      <td>female</td>\n",
       "      <td>group C</td>\n",
       "      <td>high school</td>\n",
       "      <td>free/reduced</td>\n",
       "      <td>completed</td>\n",
       "      <td>71</td>\n",
       "      <td>65</td>\n",
       "    </tr>\n",
       "    <tr>\n",
       "      <th>998</th>\n",
       "      <td>female</td>\n",
       "      <td>group D</td>\n",
       "      <td>some college</td>\n",
       "      <td>standard</td>\n",
       "      <td>completed</td>\n",
       "      <td>78</td>\n",
       "      <td>77</td>\n",
       "    </tr>\n",
       "    <tr>\n",
       "      <th>999</th>\n",
       "      <td>female</td>\n",
       "      <td>group D</td>\n",
       "      <td>some college</td>\n",
       "      <td>free/reduced</td>\n",
       "      <td>none</td>\n",
       "      <td>86</td>\n",
       "      <td>86</td>\n",
       "    </tr>\n",
       "  </tbody>\n",
       "</table>\n",
       "<p>1000 rows × 7 columns</p>\n",
       "</div>"
      ],
      "text/plain": [
       "     gender race/ethnicity parental level of education         lunch  \\\n",
       "0    female        group B           bachelor's degree      standard   \n",
       "1    female        group C                some college      standard   \n",
       "2    female        group B             master's degree      standard   \n",
       "3      male        group A          associate's degree  free/reduced   \n",
       "4      male        group C                some college      standard   \n",
       "..      ...            ...                         ...           ...   \n",
       "995  female        group E             master's degree      standard   \n",
       "996    male        group C                 high school  free/reduced   \n",
       "997  female        group C                 high school  free/reduced   \n",
       "998  female        group D                some college      standard   \n",
       "999  female        group D                some college  free/reduced   \n",
       "\n",
       "    test preparation course  reading score  writing score  \n",
       "0                      none             72             74  \n",
       "1                 completed             90             88  \n",
       "2                      none             95             93  \n",
       "3                      none             57             44  \n",
       "4                      none             78             75  \n",
       "..                      ...            ...            ...  \n",
       "995               completed             99             95  \n",
       "996                    none             55             55  \n",
       "997               completed             71             65  \n",
       "998               completed             78             77  \n",
       "999                    none             86             86  \n",
       "\n",
       "[1000 rows x 7 columns]"
      ]
     },
     "execution_count": 87,
     "metadata": {},
     "output_type": "execute_result"
    }
   ],
   "source": [
    "x = df.drop(\"math score\", axis=1, inplace=False)\n",
    "x"
   ]
  },
  {
   "cell_type": "code",
   "execution_count": 88,
   "metadata": {},
   "outputs": [
    {
     "data": {
      "text/plain": [
       "0      72\n",
       "1      69\n",
       "2      90\n",
       "3      47\n",
       "4      76\n",
       "       ..\n",
       "995    88\n",
       "996    62\n",
       "997    59\n",
       "998    68\n",
       "999    77\n",
       "Name: math score, Length: 1000, dtype: int64"
      ]
     },
     "execution_count": 88,
     "metadata": {},
     "output_type": "execute_result"
    }
   ],
   "source": [
    "y = df[\"math score\"]\n",
    "y"
   ]
  },
  {
   "cell_type": "markdown",
   "metadata": {},
   "source": [
    "### 1.4 Creating Column Transformer with 3 types of Transformers"
   ]
  },
  {
   "cell_type": "code",
   "execution_count": 89,
   "metadata": {},
   "outputs": [],
   "source": [
    "#   splitting numerical features\n",
    "\n",
    "#   numerical features\n",
    "num_features = x.select_dtypes(exclude=\"O\").columns\n",
    "\n",
    "#   categorical features\n",
    "cat_features = x.select_dtypes(include=\"O\").columns"
   ]
  },
  {
   "cell_type": "markdown",
   "metadata": {},
   "source": [
    "#### 1.4.1 creating a pipeline of transforming categorical features into numerical features and then scaling these numerical features."
   ]
  },
  {
   "cell_type": "code",
   "execution_count": 90,
   "metadata": {},
   "outputs": [],
   "source": [
    "from sklearn.preprocessing import OneHotEncoder, StandardScaler\n",
    "from sklearn.compose import ColumnTransformer"
   ]
  },
  {
   "cell_type": "code",
   "execution_count": 91,
   "metadata": {},
   "outputs": [],
   "source": [
    "#   initializing the one hot encoder and standard scaler for use\n",
    "\n",
    "oh_transformer= OneHotEncoder()\n",
    "numeric_transformer = StandardScaler()"
   ]
  },
  {
   "cell_type": "code",
   "execution_count": 92,
   "metadata": {},
   "outputs": [],
   "source": [
    "#   creating the pipeline\n",
    "\n",
    "preprocessor = ColumnTransformer(\n",
    "    [\n",
    "        (\"OneHotEncoder\", oh_transformer, cat_features),\n",
    "        (\"StandardScaler\", numeric_transformer, num_features),\n",
    "    ]\n",
    ")\n",
    "\n",
    "#   note: this preprocessor pipeline object will be used later\n",
    "#   to perform any kind of fit or transform on the data"
   ]
  },
  {
   "cell_type": "code",
   "execution_count": 93,
   "metadata": {},
   "outputs": [],
   "source": [
    "x = preprocessor.fit_transform(x)"
   ]
  },
  {
   "cell_type": "code",
   "execution_count": 94,
   "metadata": {},
   "outputs": [
    {
     "data": {
      "text/plain": [
       "array([[ 1.        ,  0.        ,  0.        , ...,  1.        ,\n",
       "         0.19399858,  0.39149181],\n",
       "       [ 1.        ,  0.        ,  0.        , ...,  0.        ,\n",
       "         1.42747598,  1.31326868],\n",
       "       [ 1.        ,  0.        ,  0.        , ...,  1.        ,\n",
       "         1.77010859,  1.64247471],\n",
       "       ...,\n",
       "       [ 1.        ,  0.        ,  0.        , ...,  0.        ,\n",
       "         0.12547206, -0.20107904],\n",
       "       [ 1.        ,  0.        ,  0.        , ...,  0.        ,\n",
       "         0.60515772,  0.58901542],\n",
       "       [ 1.        ,  0.        ,  0.        , ...,  1.        ,\n",
       "         1.15336989,  1.18158627]])"
      ]
     },
     "execution_count": 94,
     "metadata": {},
     "output_type": "execute_result"
    }
   ],
   "source": [
    "x"
   ]
  },
  {
   "cell_type": "code",
   "execution_count": 95,
   "metadata": {},
   "outputs": [
    {
     "data": {
      "text/plain": [
       "(1000, 19)"
      ]
     },
     "execution_count": 95,
     "metadata": {},
     "output_type": "execute_result"
    }
   ],
   "source": [
    "x.shape"
   ]
  },
  {
   "cell_type": "markdown",
   "metadata": {},
   "source": [
    "### 1.5 Splitting train and test sets"
   ]
  },
  {
   "cell_type": "code",
   "execution_count": 96,
   "metadata": {},
   "outputs": [],
   "source": [
    "from sklearn.model_selection import train_test_split"
   ]
  },
  {
   "cell_type": "code",
   "execution_count": 97,
   "metadata": {},
   "outputs": [],
   "source": [
    "x_train, x_test, y_train, y_test = train_test_split(x,y,test_size = 0.2, random_state=42)"
   ]
  },
  {
   "cell_type": "code",
   "execution_count": 98,
   "metadata": {},
   "outputs": [
    {
     "name": "stdout",
     "output_type": "stream",
     "text": [
      "x_train size=  (800, 19)\n",
      "y_train size=  (800,)\n",
      "x_test size=  (200, 19)\n",
      "y_test size=  (200,)\n"
     ]
    }
   ],
   "source": [
    "print(\"x_train size= \", x_train.shape)\n",
    "print(\"y_train size= \", y_train.shape)\n",
    "\n",
    "print(\"x_test size= \", x_test.shape)\n",
    "print(\"y_test size= \", y_test.shape)"
   ]
  },
  {
   "cell_type": "markdown",
   "metadata": {},
   "source": [
    "### 1.6 Creating an Evaluation Function to evaluate the model on various metrics after training"
   ]
  },
  {
   "cell_type": "code",
   "execution_count": 99,
   "metadata": {},
   "outputs": [],
   "source": [
    "def evaluate_model(true, predicted):\n",
    "    '''This function returns mean absolute error, mean squared error, root mean squared error and r2_square error.'''\n",
    "    \n",
    "    mae = mean_absolute_error(true, predicted)\n",
    "    mse = mean_squared_error(true, predicted)\n",
    "    rmse = np.sqrt(mean_squared_error(true, predicted))\n",
    "    r2_square = r2_score(true, predicted)\n",
    "\n",
    "    return mae, mse, rmse, r2_square"
   ]
  },
  {
   "cell_type": "markdown",
   "metadata": {},
   "source": [
    "### 1.7 Model Training Process"
   ]
  },
  {
   "cell_type": "markdown",
   "metadata": {},
   "source": [
    "#### 1.7.1 evaluating various predictive models on the same data"
   ]
  },
  {
   "cell_type": "code",
   "execution_count": 100,
   "metadata": {},
   "outputs": [],
   "source": [
    "models = {\n",
    "    \"LinearRegression\" : LinearRegression(),\n",
    "    \"Lasso\" : Lasso(),\n",
    "    \"Ridge\" : Ridge(),\n",
    "    \"K-Neighbors Regressor\" : KNeighborsRegressor(),\n",
    "    \"Decision Tree Regressor\" : DecisionTreeRegressor(),\n",
    "    \"Random Forest Regressor\" : RandomForestRegressor(),\n",
    "    \"XGB Regressor\" : XGBRegressor(),\n",
    "    \"CatBoosting Regressor\" : CatBoostRegressor(verbose=False),\n",
    "    \"AdaBoost Regressor\" : AdaBoostRegressor()\n",
    "}"
   ]
  },
  {
   "cell_type": "code",
   "execution_count": 101,
   "metadata": {},
   "outputs": [
    {
     "name": "stdout",
     "output_type": "stream",
     "text": [
      "LinearRegression\n",
      "\n",
      "Model Performance for Training set\n",
      "Mean Absolute Error : 4.2671\n",
      "Mean Squared Error : 28.3487\n",
      "Root Mean Squared Error : 5.3244\n",
      "R2 score : 0.8743\n",
      "\n",
      "Model Performance for Test set\n",
      "Mean Absolute Error : 4.2158\n",
      "Mean Squared Error : 29.1167\n",
      "Root Mean Squared Error : 5.3960\n",
      "R2 score : 0.8803\n",
      "\n",
      "------------------------------------------\n",
      "\n",
      "Lasso\n",
      "\n",
      "Model Performance for Training set\n",
      "Mean Absolute Error : 5.2063\n",
      "Mean Squared Error : 43.4784\n",
      "Root Mean Squared Error : 6.5938\n",
      "R2 score : 0.8071\n",
      "\n",
      "Model Performance for Test set\n",
      "Mean Absolute Error : 5.1579\n",
      "Mean Squared Error : 42.5064\n",
      "Root Mean Squared Error : 6.5197\n",
      "R2 score : 0.8253\n",
      "\n",
      "------------------------------------------\n",
      "\n",
      "Ridge\n",
      "\n",
      "Model Performance for Training set\n",
      "Mean Absolute Error : 4.2650\n",
      "Mean Squared Error : 28.3378\n",
      "Root Mean Squared Error : 5.3233\n",
      "R2 score : 0.8743\n",
      "\n",
      "Model Performance for Test set\n",
      "Mean Absolute Error : 4.2111\n",
      "Mean Squared Error : 29.0563\n",
      "Root Mean Squared Error : 5.3904\n",
      "R2 score : 0.8806\n",
      "\n",
      "------------------------------------------\n",
      "\n",
      "K-Neighbors Regressor\n",
      "\n",
      "Model Performance for Training set\n",
      "Mean Absolute Error : 4.5167\n",
      "Mean Squared Error : 32.5776\n",
      "Root Mean Squared Error : 5.7077\n",
      "R2 score : 0.8555\n",
      "\n",
      "Model Performance for Test set\n",
      "Mean Absolute Error : 5.6210\n",
      "Mean Squared Error : 52.6066\n",
      "Root Mean Squared Error : 7.2530\n",
      "R2 score : 0.7838\n",
      "\n",
      "------------------------------------------\n",
      "\n",
      "Decision Tree Regressor\n",
      "\n",
      "Model Performance for Training set\n",
      "Mean Absolute Error : 0.0187\n",
      "Mean Squared Error : 0.0781\n",
      "Root Mean Squared Error : 0.2795\n",
      "R2 score : 0.9997\n",
      "\n",
      "Model Performance for Test set\n",
      "Mean Absolute Error : 6.4150\n",
      "Mean Squared Error : 66.2950\n",
      "Root Mean Squared Error : 8.1422\n",
      "R2 score : 0.7276\n",
      "\n",
      "------------------------------------------\n",
      "\n"
     ]
    },
    {
     "name": "stdout",
     "output_type": "stream",
     "text": [
      "Random Forest Regressor\n",
      "\n",
      "Model Performance for Training set\n",
      "Mean Absolute Error : 1.8450\n",
      "Mean Squared Error : 5.4033\n",
      "Root Mean Squared Error : 2.3245\n",
      "R2 score : 0.9760\n",
      "\n",
      "Model Performance for Test set\n",
      "Mean Absolute Error : 4.6890\n",
      "Mean Squared Error : 36.7697\n",
      "Root Mean Squared Error : 6.0638\n",
      "R2 score : 0.8489\n",
      "\n",
      "------------------------------------------\n",
      "\n",
      "XGB Regressor\n",
      "\n",
      "Model Performance for Training set\n",
      "Mean Absolute Error : 0.6875\n",
      "Mean Squared Error : 1.0146\n",
      "Root Mean Squared Error : 1.0073\n",
      "R2 score : 0.9955\n",
      "\n",
      "Model Performance for Test set\n",
      "Mean Absolute Error : 5.0577\n",
      "Mean Squared Error : 41.9037\n",
      "Root Mean Squared Error : 6.4733\n",
      "R2 score : 0.8278\n",
      "\n",
      "------------------------------------------\n",
      "\n",
      "CatBoosting Regressor\n",
      "\n",
      "Model Performance for Training set\n",
      "Mean Absolute Error : 2.4054\n",
      "Mean Squared Error : 9.2578\n",
      "Root Mean Squared Error : 3.0427\n",
      "R2 score : 0.9589\n",
      "\n",
      "Model Performance for Test set\n",
      "Mean Absolute Error : 4.6125\n",
      "Mean Squared Error : 36.1037\n",
      "Root Mean Squared Error : 6.0086\n",
      "R2 score : 0.8516\n",
      "\n",
      "------------------------------------------\n",
      "\n",
      "AdaBoost Regressor\n",
      "\n",
      "Model Performance for Training set\n",
      "Mean Absolute Error : 4.7932\n",
      "Mean Squared Error : 33.9959\n",
      "Root Mean Squared Error : 5.8306\n",
      "R2 score : 0.8492\n",
      "\n",
      "Model Performance for Test set\n",
      "Mean Absolute Error : 4.6377\n",
      "Mean Squared Error : 36.0007\n",
      "Root Mean Squared Error : 6.0001\n",
      "R2 score : 0.8521\n",
      "\n",
      "------------------------------------------\n",
      "\n"
     ]
    }
   ],
   "source": [
    "model_list = []\n",
    "r2_list = []\n",
    "\n",
    "for i in range(len(list(models))):\n",
    "\n",
    "    model = list(models.values())[i]\n",
    "    model.fit(x_train, y_train)\n",
    "\n",
    "    #   making predictions\n",
    "    y_train_pred = model.predict(x_train)\n",
    "    y_test_pred = model.predict(x_test)\n",
    "\n",
    "    #   evaluate train and test dataset\n",
    "    model_train_mae, model_train_mse, model_train_rmse, model_train_r2score = evaluate_model(y_train, y_train_pred)\n",
    "    model_test_mae, model_test_mse, model_test_rmse, model_test_r2score =  evaluate_model(y_test, y_test_pred)\n",
    "\n",
    "    print(list(models.keys())[i], end=\"\\n\\n\")\n",
    "    model_list.append(list(models.keys())[i])\n",
    "\n",
    "\n",
    "    print('Model Performance for Training set')\n",
    "    print(\"Mean Absolute Error : {:.4f}\".format(model_train_mae))\n",
    "    print(\"Mean Squared Error : {:.4f}\".format(model_train_mse))\n",
    "    print(\"Root Mean Squared Error : {:.4f}\".format(model_train_rmse))\n",
    "    print(\"R2 score : {:.4f}\".format(model_train_r2score))\n",
    "\n",
    "    print()\n",
    "\n",
    "    print('Model Performance for Test set')\n",
    "    print(\"Mean Absolute Error : {:.4f}\".format(model_test_mae))\n",
    "    print(\"Mean Squared Error : {:.4f}\".format(model_test_mse))\n",
    "    print(\"Root Mean Squared Error : {:.4f}\".format(model_test_rmse))\n",
    "    print(\"R2 score : {:.4f}\".format(model_test_r2score))\n",
    "\n",
    "    r2_list.append(model_test_r2score)\n",
    "\n",
    "    print()\n",
    "    print('------------------------------------------')\n",
    "    print()"
   ]
  },
  {
   "cell_type": "markdown",
   "metadata": {},
   "source": [
    "#### Results:"
   ]
  },
  {
   "cell_type": "code",
   "execution_count": 102,
   "metadata": {},
   "outputs": [],
   "source": [
    "lis= pd.DataFrame(\n",
    "    list(zip(model_list, r2_list)),\n",
    "    columns=[\"Model Name\", \"R2_score\"]\n",
    ").sort_values(by= [\"R2_score\"],ascending=False)"
   ]
  },
  {
   "cell_type": "code",
   "execution_count": 103,
   "metadata": {},
   "outputs": [
    {
     "name": "stdout",
     "output_type": "stream",
     "text": [
      "                Model Name  R2_score\n",
      "2                    Ridge  0.880593\n",
      "0         LinearRegression  0.880345\n",
      "8       AdaBoost Regressor  0.852055\n",
      "7    CatBoosting Regressor  0.851632\n",
      "5  Random Forest Regressor  0.848895\n",
      "6            XGB Regressor  0.827797\n",
      "1                    Lasso  0.825320\n",
      "3    K-Neighbors Regressor  0.783813\n",
      "4  Decision Tree Regressor  0.727560\n"
     ]
    }
   ],
   "source": [
    "print(lis)"
   ]
  },
  {
   "cell_type": "markdown",
   "metadata": {},
   "source": [
    "##### Result:    \n",
    "1.  Ridge and Linear Regression performed the best.\n",
    "2.  The difference in performance score of Ridge and Linear Regression is very small."
   ]
  },
  {
   "cell_type": "markdown",
   "metadata": {},
   "source": [
    "#### 1.7.2 Training the model on Linear Regression"
   ]
  },
  {
   "cell_type": "code",
   "execution_count": 9,
   "metadata": {},
   "outputs": [],
   "source": [
    "#   renaming the column names\n",
    "\n",
    "import pandas as pd\n",
    "df = pd.read_csv('data/StudentsPerformance.csv')\n",
    "df.rename(columns={'race/ethnicity':'race_ethnicity', 'parental level of education': 'parental_level_of_education', 'test preparation course': 'test_preparation_course', 'reading score': 'reading_score', 'writing score': 'writing_score', 'math score':'math_score'}, inplace=True)\n",
    "df.to_csv('StudentPerformances.csv',index=False)"
   ]
  }
 ],
 "metadata": {
  "kernelspec": {
   "display_name": "Python 3",
   "language": "python",
   "name": "python3"
  },
  "language_info": {
   "codemirror_mode": {
    "name": "ipython",
    "version": 3
   },
   "file_extension": ".py",
   "mimetype": "text/x-python",
   "name": "python",
   "nbconvert_exporter": "python",
   "pygments_lexer": "ipython3",
   "version": "3.8.0"
  }
 },
 "nbformat": 4,
 "nbformat_minor": 2
}
